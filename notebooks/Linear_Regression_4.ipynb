{
 "cells": [
  {
   "cell_type": "code",
   "execution_count": 28,
   "id": "459fe118",
   "metadata": {},
   "outputs": [],
   "source": [
    "#Import the Necessary libraries\n",
    "import random as rd\n",
    "import numpy as np\n",
    "import pandas as pd\n",
    "import matplotlib.pyplot as plt\n",
    "from sklearn.linear_model import LinearRegression\n",
    "import statsmodels.api as sm\n",
    "import matplotlib.pyplot as plt\n",
    "import seaborn as sns\n",
    "from sklearn.model_selection import train_test_split\n",
    "from sklearn.metrics import mean_squared_error, r2_score\n",
    "import statsmodels.api as sm\n",
    "from statsmodels.stats.outliers_influence import variance_inflation_factor\n",
    "from statsmodels.graphics.tsaplots import plot_acf"
   ]
  },
  {
   "cell_type": "code",
   "execution_count": 29,
   "id": "0ce04f15",
   "metadata": {},
   "outputs": [
    {
     "name": "stdout",
     "output_type": "stream",
     "text": [
      "Number of rows: 1000\n"
     ]
    }
   ],
   "source": [
    "#Import the dataset\n",
    "df = pd.read_csv(r\"C:\\Users\\jwh28\\Downloads\\Time-Wasters on Social Media.csv\")\n",
    "print(\"Number of rows:\", df.shape[0])"
   ]
  },
  {
   "cell_type": "code",
   "execution_count": 30,
   "id": "d9442469",
   "metadata": {},
   "outputs": [
    {
     "name": "stdout",
     "output_type": "stream",
     "text": [
      "Number of rows: 1000\n"
     ]
    }
   ],
   "source": [
    "#Delete Unnecessary columns\n",
    "df.drop(['Video ID', 'Watch Time', 'UserID'], axis=1, inplace=True)\n",
    "print(\"Number of rows:\", df.shape[0])"
   ]
  },
  {
   "cell_type": "code",
   "execution_count": 31,
   "id": "435a39e5",
   "metadata": {},
   "outputs": [
    {
     "name": "stdout",
     "output_type": "stream",
     "text": [
      "Boolean columns: ['Debt', 'Owns Property']\n",
      "Numerical columns: ['Age', 'Income', 'Total Time Spent', 'Number of Sessions', 'Video Length', 'Engagement', 'Importance Score', 'Time Spent On Video', 'Number of Videos Watched', 'Scroll Rate', 'ProductivityLoss', 'Satisfaction', 'Self Control', 'Addiction Level']\n",
      "Categorical columns: ['Gender', 'Location', 'Profession', 'Demographics', 'Platform', 'Video Category', 'Frequency', 'Watch Reason', 'DeviceType', 'OS', 'CurrentActivity', 'ConnectionType']\n"
     ]
    }
   ],
   "source": [
    "#Investigate Column Types\n",
    "bool_cols = [\n",
    "    col for col in df.columns\n",
    "    if set(df[col].dropna().unique()) <= {True, False}\n",
    "]\n",
    "numeric_cols = df.select_dtypes(include=[np.number]).columns.tolist()\n",
    "categorical_cols = [\n",
    "    col for col in df.columns\n",
    "    if col not in bool_cols + numeric_cols\n",
    "]\n",
    "print(\"Boolean columns:\", bool_cols)\n",
    "print(\"Numerical columns:\", numeric_cols)\n",
    "print(\"Categorical columns:\", categorical_cols)"
   ]
  },
  {
   "cell_type": "code",
   "execution_count": 32,
   "id": "6d33bac4",
   "metadata": {},
   "outputs": [
    {
     "name": "stdout",
     "output_type": "stream",
     "text": [
      "Number of rows: 1000\n"
     ]
    }
   ],
   "source": [
    "#Convert Boolean columns to integers\n",
    "df[bool_cols] = df[bool_cols].astype(int)\n",
    "\n",
    "for col in bool_cols:\n",
    "    df[col] = df[col].astype(int)\n",
    "\n",
    "print(\"Number of rows:\", df.shape[0])\n"
   ]
  },
  {
   "cell_type": "code",
   "execution_count": 33,
   "id": "c6c29340",
   "metadata": {},
   "outputs": [
    {
     "name": "stdout",
     "output_type": "stream",
     "text": [
      "Unique values in 'Gender': ['Male', 'Female', 'Other']\n",
      "Unique values in 'Location': ['Pakistan', 'Mexico', 'United States', 'Barzil', 'Vietnam', 'India', 'Indonesia', 'Philippines', 'Japan', 'Germany']\n",
      "Unique values in 'Profession': ['Engineer', 'Artist', 'Waiting staff', 'Manager', 'driver', 'Students', 'Labor/Worker', 'Cashier', 'Teacher']\n",
      "Unique values in 'Demographics': ['Rural', 'Urban']\n",
      "Unique values in 'Platform': ['Instagram', 'Facebook', 'YouTube', 'TikTok']\n",
      "Unique values in 'Video Category': ['Pranks', 'Vlogs', 'Gaming', 'Jokes/Memes', 'Entertainment', 'ASMR', 'Life Hacks', 'Trends', 'Comedy']\n",
      "Unique values in 'Frequency': ['Night', 'Afternoon', 'Evening', 'Morning']\n",
      "Unique values in 'Watch Reason': ['Procrastination', 'Habit', 'Entertainment', 'Boredom']\n",
      "Unique values in 'DeviceType': ['Smartphone', 'Computer', 'Tablet']\n",
      "Unique values in 'OS': ['Android', 'iOS', 'MacOS', 'Windows']\n",
      "Unique values in 'CurrentActivity': ['Commuting', 'At school', 'At home', 'At work']\n",
      "Unique values in 'ConnectionType': ['Mobile Data', 'Wi-Fi']\n"
     ]
    }
   ],
   "source": [
    "#Investigate Categorical Columns:\n",
    "for col in categorical_cols:\n",
    "    unique_vals = df[col].dropna().unique()\n",
    "    print(f\"Unique values in '{col}': {list(unique_vals)}\")\n"
   ]
  },
  {
   "cell_type": "code",
   "execution_count": 34,
   "id": "70a4c1e3",
   "metadata": {},
   "outputs": [],
   "source": [
    "#Configure the Frequency Column\n",
    "\n",
    "categorical_cols.remove('Frequency')\n",
    "\n",
    "frequency_mapping = {\n",
    "    'Morning':   0,\n",
    "    'Afternoon': 1,\n",
    "    'Evening':   2,\n",
    "    'Night':     3\n",
    "}\n",
    "\n",
    "df['Frequency'] = df['Frequency'].map(frequency_mapping)\n"
   ]
  },
  {
   "cell_type": "code",
   "execution_count": 35,
   "id": "7e62dab5",
   "metadata": {},
   "outputs": [
    {
     "name": "stdout",
     "output_type": "stream",
     "text": [
      "['Pakistan' 'Mexico' 'United States' 'Brazil' 'Vietnam' 'India'\n",
      " 'Indonesia' 'Philippines' 'Japan' 'Germany']\n",
      "Number of rows: 1000\n"
     ]
    }
   ],
   "source": [
    "#Change \"Barzil\" to \"Brazil\" in the 'Location' column\n",
    "df.loc[df['Location'] == 'Barzil', 'Location'] = 'Brazil'\n",
    "print(df[\"Location\"].unique())\n",
    "print(\"Number of rows:\", df.shape[0])\n"
   ]
  },
  {
   "cell_type": "code",
   "execution_count": 36,
   "id": "6c3c89da",
   "metadata": {},
   "outputs": [
    {
     "name": "stdout",
     "output_type": "stream",
     "text": [
      "Number of rows: 1000\n",
      "Column names: ['Age', 'Income', 'Debt', 'Owns Property', 'Total Time Spent', 'Number of Sessions', 'Video Length', 'Engagement', 'Importance Score', 'Time Spent On Video', 'Number of Videos Watched', 'Scroll Rate', 'Frequency', 'ProductivityLoss', 'Satisfaction', 'Self Control', 'Addiction Level', 'Gender_Male', 'Gender_Other', 'Location_Germany', 'Location_India', 'Location_Indonesia', 'Location_Japan', 'Location_Mexico', 'Location_Pakistan', 'Location_Philippines', 'Location_United States', 'Location_Vietnam', 'Profession_Cashier', 'Profession_Engineer', 'Profession_Labor/Worker', 'Profession_Manager', 'Profession_Students', 'Profession_Teacher', 'Profession_Waiting staff', 'Profession_driver', 'Demographics_Urban', 'Platform_Instagram', 'Platform_TikTok', 'Platform_YouTube', 'Video Category_Comedy', 'Video Category_Entertainment', 'Video Category_Gaming', 'Video Category_Jokes/Memes', 'Video Category_Life Hacks', 'Video Category_Pranks', 'Video Category_Trends', 'Video Category_Vlogs', 'Watch Reason_Entertainment', 'Watch Reason_Habit', 'Watch Reason_Procrastination', 'DeviceType_Smartphone', 'DeviceType_Tablet', 'OS_MacOS', 'OS_Windows', 'OS_iOS', 'CurrentActivity_At school', 'CurrentActivity_At work', 'CurrentActivity_Commuting', 'ConnectionType_Wi-Fi'], Number of columns: 60\n"
     ]
    }
   ],
   "source": [
    "#Create dummy variables for categorical columns\n",
    "for col in categorical_cols:\n",
    "    dummies = pd.get_dummies(\n",
    "        df[col],\n",
    "        prefix=col,\n",
    "        drop_first=True,    # ← drop one dummy to avoid the trap\n",
    "        dtype=int\n",
    "    )\n",
    "    df = pd.concat([df, dummies], axis=1)\n",
    "    df.drop(col, axis=1, inplace=True)\n",
    "    \n",
    "print(\"Number of rows:\", df.shape[0])\n",
    "print(f\"Column names: {list(df.columns)}, Number of columns: {df.shape[1]}\")\n"
   ]
  },
  {
   "cell_type": "code",
   "execution_count": 37,
   "id": "a07b1827",
   "metadata": {},
   "outputs": [
    {
     "data": {
      "text/plain": [
       "False"
      ]
     },
     "execution_count": 37,
     "metadata": {},
     "output_type": "execute_result"
    }
   ],
   "source": [
    "#Ensure there are no missing values\n",
    "df.isnull().values.any()"
   ]
  },
  {
   "cell_type": "code",
   "execution_count": 38,
   "id": "9d405723",
   "metadata": {},
   "outputs": [],
   "source": [
    "#Convert to CSV\n",
    "df.to_csv(r\"C:\\Users\\jwh28\\Downloads\\Processed_Data_Linear_Regression.csv\", index=False)"
   ]
  },
  {
   "cell_type": "code",
   "execution_count": 39,
   "id": "eff34096",
   "metadata": {},
   "outputs": [
    {
     "name": "stdout",
     "output_type": "stream",
     "text": [
      "                            OLS Regression Results                            \n",
      "==============================================================================\n",
      "Dep. Variable:        Addiction Level   R-squared:                       1.000\n",
      "Model:                            OLS   Adj. R-squared:                  1.000\n",
      "Method:                 Least Squares   F-statistic:                 2.743e+25\n",
      "Date:                Fri, 25 Apr 2025   Prob (F-statistic):               0.00\n",
      "Time:                        16:35:50   Log-Likelihood:                 25753.\n",
      "No. Observations:                1000   AIC:                        -5.139e+04\n",
      "Df Residuals:                     941   BIC:                        -5.110e+04\n",
      "Df Model:                          58                                         \n",
      "Covariance Type:            nonrobust                                         \n",
      "================================================================================================\n",
      "                                   coef    std err          t      P>|t|      [0.025      0.975]\n",
      "------------------------------------------------------------------------------------------------\n",
      "const                            0.1961   3.75e-14   5.22e+12      0.000       0.196       0.196\n",
      "Age                          -2.234e-15   3.91e-15     -0.571      0.568   -9.92e-15    5.45e-15\n",
      "Income                        2.495e-17   4.27e-18      5.838      0.000    1.66e-17    3.33e-17\n",
      "Debt                           5.41e-14   2.07e-13      0.261      0.794   -3.53e-13    4.61e-13\n",
      "Owns Property                -6.038e-14   1.06e-13     -0.570      0.569   -2.68e-13    1.48e-13\n",
      "Total Time Spent             -1.582e-16   6.31e-16     -0.251      0.802    -1.4e-15    1.08e-15\n",
      "Number of Sessions           -3.293e-15   9.82e-15     -0.335      0.738   -2.26e-14     1.6e-14\n",
      "Video Length                   1.39e-15   6.43e-15      0.216      0.829   -1.12e-14     1.4e-14\n",
      "Engagement                   -1.559e-17   1.82e-17     -0.855      0.393   -5.14e-17    2.02e-17\n",
      "Importance Score             -1.492e-15   2.04e-14     -0.073      0.942   -4.15e-14    3.85e-14\n",
      "Time Spent On Video           1.149e-16   6.47e-15      0.018      0.986   -1.26e-14    1.28e-14\n",
      "Number of Videos Watched      2.947e-16    3.8e-15      0.077      0.938   -7.17e-15    7.76e-15\n",
      "Scroll Rate                   4.198e-16   1.82e-15      0.231      0.818   -3.15e-15    3.99e-15\n",
      "Frequency                    -2.776e-16   6.54e-14     -0.004      0.997   -1.29e-13    1.28e-13\n",
      "ProductivityLoss                 0.9804   3.08e-13   3.18e+12      0.000       0.980       0.980\n",
      "Satisfaction                     0.9804   8.05e-14   1.22e+13      0.000       0.980       0.980\n",
      "Self Control                    -1.0000   2.57e-13  -3.89e+12      0.000      -1.000      -1.000\n",
      "Gender_Male                  -1.063e-14   1.19e-13     -0.089      0.929   -2.45e-13    2.24e-13\n",
      "Gender_Other                 -2.547e-14    1.6e-13     -0.159      0.874    -3.4e-13    2.89e-13\n",
      "Location_Germany              2.331e-14    2.9e-13      0.080      0.936   -5.46e-13    5.93e-13\n",
      "Location_India                1.102e-14   2.19e-13      0.050      0.960   -4.19e-13    4.41e-13\n",
      "Location_Indonesia            9.548e-15    2.7e-13      0.035      0.972   -5.21e-13     5.4e-13\n",
      "Location_Japan                4.685e-14    2.7e-13      0.173      0.862   -4.84e-13    5.77e-13\n",
      "Location_Mexico               1.199e-14   2.74e-13      0.044      0.965   -5.25e-13    5.49e-13\n",
      "Location_Pakistan             6.384e-15   2.71e-13      0.024      0.981   -5.26e-13    5.39e-13\n",
      "Location_Philippines         -2.623e-14   2.67e-13     -0.098      0.922    -5.5e-13    4.97e-13\n",
      "Location_United States        1.292e-14   2.27e-13      0.057      0.955   -4.32e-13    4.58e-13\n",
      "Location_Vietnam              6.939e-15   2.67e-13      0.026      0.979   -5.16e-13     5.3e-13\n",
      "Profession_Cashier           -3.431e-14    3.3e-13     -0.104      0.917   -6.83e-13    6.14e-13\n",
      "Profession_Engineer           3.872e-15    3.2e-13      0.012      0.990   -6.25e-13    6.32e-13\n",
      "Profession_Labor/Worker      -8.604e-15   2.74e-13     -0.031      0.975   -5.46e-13    5.29e-13\n",
      "Profession_Manager           -3.719e-15   3.35e-13     -0.011      0.991   -6.61e-13    6.54e-13\n",
      "Profession_Students          -1.786e-14   2.68e-13     -0.067      0.947   -5.43e-13    5.07e-13\n",
      "Profession_Teacher           -1.116e-14   3.64e-13     -0.031      0.976   -7.26e-13    7.04e-13\n",
      "Profession_Waiting staff     -2.742e-14   2.73e-13     -0.100      0.920   -5.63e-13    5.08e-13\n",
      "Profession_driver            -9.548e-15    2.9e-13     -0.033      0.974   -5.79e-13     5.6e-13\n",
      "Demographics_Urban           -2.415e-15   1.22e-13     -0.020      0.984   -2.42e-13    2.37e-13\n",
      "Platform_Instagram           -3.408e-14   1.54e-13     -0.221      0.825   -3.37e-13    2.69e-13\n",
      "Platform_TikTok              -1.409e-14   1.52e-13     -0.093      0.926   -3.12e-13    2.84e-13\n",
      "Platform_YouTube              1.013e-14   1.55e-13      0.065      0.948   -2.95e-13    3.15e-13\n",
      "Video Category_Comedy         3.339e-14   3.39e-13      0.098      0.922   -6.32e-13    6.99e-13\n",
      "Video Category_Entertainment -1.177e-14   2.51e-13     -0.047      0.963   -5.05e-13    4.81e-13\n",
      "Video Category_Gaming        -4.996e-16   2.43e-13     -0.002      0.998   -4.77e-13    4.76e-13\n",
      "Video Category_Jokes/Memes   -2.344e-14   2.27e-13     -0.103      0.918   -4.69e-13    4.22e-13\n",
      "Video Category_Life Hacks     -1.06e-14   2.31e-13     -0.046      0.963   -4.65e-13    4.43e-13\n",
      "Video Category_Pranks         5.274e-15   2.47e-13      0.021      0.983    -4.8e-13    4.91e-13\n",
      "Video Category_Trends         5.843e-15   2.52e-13      0.023      0.982   -4.89e-13       5e-13\n",
      "Video Category_Vlogs          9.666e-15   2.46e-13      0.039      0.969   -4.73e-13    4.92e-13\n",
      "Watch Reason_Entertainment   -1.249e-16   1.43e-13     -0.001      0.999   -2.81e-13    2.81e-13\n",
      "Watch Reason_Habit            5.079e-15   1.36e-13      0.037      0.970   -2.61e-13    2.72e-13\n",
      "Watch Reason_Procrastination -6.106e-16   1.83e-13     -0.003      0.997    -3.6e-13    3.59e-13\n",
      "DeviceType_Smartphone         2.387e-15   1.63e-13      0.015      0.988   -3.17e-13    3.22e-13\n",
      "DeviceType_Tablet             6.078e-15   1.77e-13      0.034      0.973   -3.42e-13    3.54e-13\n",
      "OS_MacOS                     -1.318e-14   1.73e-13     -0.076      0.939   -3.52e-13    3.26e-13\n",
      "OS_Windows                   -2.331e-15   1.69e-13     -0.014      0.989   -3.33e-13    3.29e-13\n",
      "OS_iOS                        2.345e-14   1.28e-13      0.182      0.855   -2.29e-13    2.76e-13\n",
      "CurrentActivity_At school     7.216e-16   1.33e-13      0.005      0.996   -2.61e-13    2.63e-13\n",
      "CurrentActivity_At work       6.939e-15    1.4e-13      0.050      0.960   -2.67e-13    2.81e-13\n",
      "CurrentActivity_Commuting     6.523e-15   1.81e-13      0.036      0.971   -3.48e-13    3.61e-13\n",
      "ConnectionType_Wi-Fi         -4.385e-15   1.14e-13     -0.039      0.969   -2.27e-13    2.19e-13\n",
      "==============================================================================\n",
      "Omnibus:                     1207.549   Durbin-Watson:                   0.307\n",
      "Prob(Omnibus):                  0.000   Jarque-Bera (JB):               65.604\n",
      "Skew:                          -0.015   Prob(JB):                     5.68e-15\n",
      "Kurtosis:                       1.746   Cond. No.                     6.43e+18\n",
      "==============================================================================\n",
      "\n",
      "Notes:\n",
      "[1] Standard Errors assume that the covariance matrix of the errors is correctly specified.\n",
      "[2] The smallest eigenvalue is 9.97e-26. This might indicate that there are\n",
      "strong multicollinearity problems or that the design matrix is singular.\n"
     ]
    }
   ],
   "source": [
    "#Build OLS Model to Predict Addiction Level\n",
    "X = df.drop(\"Addiction Level\", axis=1)\n",
    "y = df[\"Addiction Level\"]\n",
    "\n",
    "data_model = pd.concat([X, y], axis=1).dropna()\n",
    "X_model = data_model.drop(\"Addiction Level\", axis=1)\n",
    "y_model = data_model[\"Addiction Level\"]\n",
    "\n",
    "X_model = sm.add_constant(X_model)\n",
    "\n",
    "model = sm.OLS(y_model, X_model).fit()\n",
    "\n",
    "print(model.summary())"
   ]
  },
  {
   "cell_type": "code",
   "execution_count": 40,
   "id": "6b290dc2",
   "metadata": {},
   "outputs": [
    {
     "name": "stderr",
     "output_type": "stream",
     "text": [
      "c:\\Users\\jwh28\\anaconda3\\Lib\\site-packages\\statsmodels\\regression\\linear_model.py:1783: RuntimeWarning: divide by zero encountered in scalar divide\n",
      "  return 1 - self.ssr/self.centered_tss\n",
      "c:\\Users\\jwh28\\anaconda3\\Lib\\site-packages\\statsmodels\\stats\\outliers_influence.py:197: RuntimeWarning: divide by zero encountered in scalar divide\n",
      "  vif = 1. / (1. - r_squared_i)\n"
     ]
    },
    {
     "name": "stdout",
     "output_type": "stream",
     "text": [
      "Features with VIF > 5:\n",
      "             feature         VIF\n",
      "14  ProductivityLoss         inf\n",
      "15      Satisfaction         inf\n",
      "16      Self Control  104.911208\n"
     ]
    }
   ],
   "source": [
    "#Address Multicollinearity\n",
    "X = sm.add_constant(df.drop(\"Addiction Level\", axis=1))\n",
    "\n",
    "vif_data = pd.DataFrame({\n",
    "    \"feature\": X.columns,\n",
    "    \"VIF\": [variance_inflation_factor(X.values, i) for i in range(X.shape[1])]\n",
    "})\n",
    "\n",
    "high_vif = vif_data[vif_data[\"VIF\"] > 5]\n",
    "print(\"Features with VIF > 5:\")\n",
    "print(high_vif)\n",
    "\n",
    "to_drop = high_vif.loc[high_vif[\"feature\"] != \"const\", \"feature\"].tolist()\n",
    "df.drop(columns=to_drop, inplace=True)"
   ]
  },
  {
   "cell_type": "code",
   "execution_count": 41,
   "id": "a24a2504",
   "metadata": {},
   "outputs": [
    {
     "name": "stdout",
     "output_type": "stream",
     "text": [
      "                            OLS Regression Results                            \n",
      "==============================================================================\n",
      "Dep. Variable:        Addiction Level   R-squared:                       0.334\n",
      "Model:                            OLS   Adj. R-squared:                  0.294\n",
      "Method:                 Least Squares   F-statistic:                     8.444\n",
      "Date:                Fri, 25 Apr 2025   Prob (F-statistic):           2.87e-52\n",
      "Time:                        16:35:50   Log-Likelihood:                -1937.2\n",
      "No. Observations:                1000   AIC:                             3988.\n",
      "Df Residuals:                     943   BIC:                             4268.\n",
      "Df Model:                          56                                         \n",
      "Covariance Type:            nonrobust                                         \n",
      "================================================================================================\n",
      "                                   coef    std err          t      P>|t|      [0.025      0.975]\n",
      "------------------------------------------------------------------------------------------------\n",
      "const                            0.7339      0.582      1.261      0.207      -0.408       1.876\n",
      "Age                              0.0025      0.004      0.610      0.542      -0.006       0.011\n",
      "Income                        3.264e-06   4.52e-06      0.722      0.471   -5.61e-06    1.21e-05\n",
      "Debt                            -0.3770      0.219     -1.719      0.086      -0.807       0.053\n",
      "Owns Property                   -0.0944      0.112     -0.841      0.401      -0.315       0.126\n",
      "Total Time Spent             -7.618e-05      0.001     -0.114      0.909      -0.001       0.001\n",
      "Number of Sessions              -0.0207      0.010     -1.989      0.047      -0.041      -0.000\n",
      "Video Length                     0.0053      0.007      0.777      0.438      -0.008       0.019\n",
      "Engagement                    2.746e-06   1.93e-05      0.142      0.887   -3.51e-05    4.06e-05\n",
      "Importance Score                 0.0198      0.022      0.920      0.358      -0.023       0.062\n",
      "Time Spent On Video              0.0031      0.007      0.457      0.648      -0.010       0.017\n",
      "Number of Videos Watched         0.0018      0.004      0.445      0.657      -0.006       0.010\n",
      "Scroll Rate                      0.0003      0.002      0.143      0.887      -0.004       0.004\n",
      "Frequency                        1.1549      0.058     19.876      0.000       1.041       1.269\n",
      "Gender_Male                     -0.0064      0.126     -0.051      0.959      -0.255       0.242\n",
      "Gender_Other                    -0.1585      0.170     -0.934      0.351      -0.492       0.175\n",
      "Location_Germany                 0.0924      0.307      0.300      0.764      -0.511       0.696\n",
      "Location_India                  -0.0722      0.232     -0.311      0.756      -0.528       0.383\n",
      "Location_Indonesia              -0.3987      0.286     -1.395      0.163      -0.960       0.162\n",
      "Location_Japan                  -0.5408      0.286     -1.892      0.059      -1.102       0.020\n",
      "Location_Mexico                 -0.1226      0.290     -0.423      0.673      -0.692       0.446\n",
      "Location_Pakistan               -0.5248      0.287     -1.827      0.068      -1.089       0.039\n",
      "Location_Philippines            -0.2151      0.282     -0.761      0.447      -0.769       0.339\n",
      "Location_United States          -0.1167      0.240     -0.486      0.627      -0.588       0.355\n",
      "Location_Vietnam                -0.2978      0.282     -1.055      0.292      -0.852       0.256\n",
      "Profession_Cashier              -0.1370      0.350     -0.391      0.696      -0.824       0.550\n",
      "Profession_Engineer             -0.1775      0.339     -0.523      0.601      -0.843       0.488\n",
      "Profession_Labor/Worker          0.0808      0.290      0.278      0.781      -0.489       0.650\n",
      "Profession_Manager               0.4495      0.354      1.268      0.205      -0.246       1.145\n",
      "Profession_Students              0.1100      0.284      0.388      0.698      -0.446       0.666\n",
      "Profession_Teacher               0.0345      0.386      0.089      0.929      -0.724       0.792\n",
      "Profession_Waiting staff         0.0189      0.289      0.065      0.948      -0.549       0.587\n",
      "Profession_driver                0.1446      0.307      0.470      0.638      -0.459       0.748\n",
      "Demographics_Urban              -0.0306      0.129     -0.237      0.813      -0.284       0.223\n",
      "Platform_Instagram              -0.1410      0.164     -0.862      0.389      -0.462       0.180\n",
      "Platform_TikTok                 -0.0287      0.161     -0.179      0.858      -0.344       0.287\n",
      "Platform_YouTube                -0.2282      0.165     -1.386      0.166      -0.551       0.095\n",
      "Video Category_Comedy           -0.1070      0.359     -0.298      0.766      -0.812       0.598\n",
      "Video Category_Entertainment     0.3129      0.266      1.176      0.240      -0.209       0.835\n",
      "Video Category_Gaming            0.2156      0.257      0.839      0.402      -0.289       0.720\n",
      "Video Category_Jokes/Memes       0.0075      0.240      0.031      0.975      -0.464       0.479\n",
      "Video Category_Life Hacks        0.1346      0.245      0.549      0.583      -0.347       0.616\n",
      "Video Category_Pranks           -0.1177      0.262     -0.449      0.653      -0.632       0.397\n",
      "Video Category_Trends            0.4436      0.267      1.664      0.097      -0.080       0.967\n",
      "Video Category_Vlogs             0.3331      0.260      1.280      0.201      -0.178       0.844\n",
      "Watch Reason_Entertainment       0.0709      0.152      0.467      0.641      -0.227       0.369\n",
      "Watch Reason_Habit               0.1752      0.144      1.218      0.223      -0.107       0.457\n",
      "Watch Reason_Procrastination     0.1683      0.194      0.868      0.386      -0.212       0.549\n",
      "DeviceType_Smartphone           -0.0492      0.173     -0.285      0.776      -0.388       0.289\n",
      "DeviceType_Tablet                0.2060      0.187      1.100      0.272      -0.162       0.574\n",
      "OS_MacOS                        -0.1379      0.183     -0.755      0.451      -0.496       0.221\n",
      "OS_Windows                       0.0683      0.179      0.382      0.702      -0.282       0.419\n",
      "OS_iOS                          -0.0042      0.136     -0.031      0.975      -0.271       0.263\n",
      "CurrentActivity_At school       -0.1348      0.141     -0.953      0.341      -0.412       0.143\n",
      "CurrentActivity_At work          0.1118      0.148      0.756      0.450      -0.179       0.402\n",
      "CurrentActivity_Commuting       -0.2344      0.191     -1.225      0.221      -0.610       0.141\n",
      "ConnectionType_Wi-Fi            -0.1893      0.120     -1.573      0.116      -0.425       0.047\n",
      "==============================================================================\n",
      "Omnibus:                       11.809   Durbin-Watson:                   1.588\n",
      "Prob(Omnibus):                  0.003   Jarque-Bera (JB):               11.729\n",
      "Skew:                          -0.242   Prob(JB):                      0.00284\n",
      "Kurtosis:                       2.783   Cond. No.                     9.95e+05\n",
      "==============================================================================\n",
      "\n",
      "Notes:\n",
      "[1] Standard Errors assume that the covariance matrix of the errors is correctly specified.\n",
      "[2] The condition number is large, 9.95e+05. This might indicate that there are\n",
      "strong multicollinearity or other numerical problems.\n"
     ]
    }
   ],
   "source": [
    "#Refit OLS Model\n",
    "X = df.drop(\"Addiction Level\", axis=1)\n",
    "y = df[\"Addiction Level\"]\n",
    "\n",
    "data_model = pd.concat([X, y], axis=1).dropna()\n",
    "X_model = data_model.drop(\"Addiction Level\", axis=1)\n",
    "y_model = data_model[\"Addiction Level\"]\n",
    "\n",
    "X_model = sm.add_constant(X_model)\n",
    "\n",
    "model_reduced = sm.OLS(y_model, X_model).fit()\n",
    "\n",
    "print(model_reduced.summary())"
   ]
  },
  {
   "cell_type": "code",
   "execution_count": 42,
   "id": "67806dee",
   "metadata": {},
   "outputs": [
    {
     "name": "stdout",
     "output_type": "stream",
     "text": [
      "Features with VIF > 5:\n",
      "                  feature        VIF\n",
      "0                     Age   9.899367\n",
      "1                  Income  26.775847\n",
      "2                    Debt   9.497674\n",
      "28    Profession_Students   5.425586\n",
      "47  DeviceType_Smartphone   5.595866\n"
     ]
    }
   ],
   "source": [
    "#Address Multicollinearity again\n",
    "vif_data = pd.DataFrame({\n",
    "    \"feature\": X.columns,\n",
    "    \"VIF\": [variance_inflation_factor(X.values, i) for i in range(X.shape[1])]\n",
    "})\n",
    "\n",
    "high_vif = vif_data[vif_data[\"VIF\"] > 5]\n",
    "print(\"Features with VIF > 5:\")\n",
    "print(high_vif)\n",
    "\n",
    "to_drop = high_vif.loc[high_vif[\"feature\"] != \"const\", \"feature\"].tolist()\n",
    "df.drop(columns=to_drop, inplace=True)"
   ]
  },
  {
   "cell_type": "code",
   "execution_count": 43,
   "id": "da7b9910",
   "metadata": {},
   "outputs": [
    {
     "name": "stdout",
     "output_type": "stream",
     "text": [
      "                            OLS Regression Results                            \n",
      "==============================================================================\n",
      "Dep. Variable:        Addiction Level   R-squared:                       0.330\n",
      "Model:                            OLS   Adj. R-squared:                  0.294\n",
      "Method:                 Least Squares   F-statistic:                     9.154\n",
      "Date:                Fri, 25 Apr 2025   Prob (F-statistic):           1.48e-53\n",
      "Time:                        16:35:51   Log-Likelihood:                -1940.2\n",
      "No. Observations:                1000   AIC:                             3984.\n",
      "Df Residuals:                     948   BIC:                             4240.\n",
      "Df Model:                          51                                         \n",
      "Covariance Type:            nonrobust                                         \n",
      "================================================================================================\n",
      "                                   coef    std err          t      P>|t|      [0.025      0.975]\n",
      "------------------------------------------------------------------------------------------------\n",
      "const                            0.8406      0.458      1.835      0.067      -0.059       1.740\n",
      "Owns Property                   -0.1017      0.112     -0.907      0.365      -0.322       0.118\n",
      "Total Time Spent             -2.973e-05      0.001     -0.045      0.964      -0.001       0.001\n",
      "Number of Sessions              -0.0203      0.010     -1.953      0.051      -0.041    9.52e-05\n",
      "Video Length                     0.0053      0.007      0.779      0.436      -0.008       0.019\n",
      "Engagement                      3.7e-06   1.93e-05      0.192      0.848   -3.41e-05    4.15e-05\n",
      "Importance Score                 0.0185      0.022      0.859      0.391      -0.024       0.061\n",
      "Time Spent On Video              0.0037      0.007      0.535      0.593      -0.010       0.017\n",
      "Number of Videos Watched         0.0014      0.004      0.343      0.731      -0.007       0.009\n",
      "Scroll Rate                      0.0005      0.002      0.255      0.799      -0.003       0.004\n",
      "Frequency                        1.1522      0.058     19.843      0.000       1.038       1.266\n",
      "Gender_Male                     -0.0028      0.126     -0.022      0.982      -0.251       0.245\n",
      "Gender_Other                    -0.1696      0.170     -1.000      0.317      -0.502       0.163\n",
      "Location_Germany                 0.1039      0.306      0.339      0.735      -0.497       0.705\n",
      "Location_India                  -0.0798      0.232     -0.345      0.730      -0.534       0.375\n",
      "Location_Indonesia              -0.4185      0.284     -1.475      0.140      -0.975       0.138\n",
      "Location_Japan                  -0.5610      0.285     -1.968      0.049      -1.120      -0.002\n",
      "Location_Mexico                 -0.1219      0.289     -0.421      0.673      -0.690       0.446\n",
      "Location_Pakistan               -0.5106      0.286     -1.785      0.075      -1.072       0.051\n",
      "Location_Philippines            -0.2168      0.282     -0.768      0.443      -0.771       0.337\n",
      "Location_United States          -0.1166      0.240     -0.486      0.627      -0.587       0.354\n",
      "Location_Vietnam                -0.3193      0.282     -1.133      0.257      -0.872       0.234\n",
      "Profession_Cashier              -0.2265      0.258     -0.879      0.379      -0.732       0.279\n",
      "Profession_Engineer             -0.2664      0.242     -1.101      0.271      -0.741       0.209\n",
      "Profession_Labor/Worker         -0.0125      0.166     -0.075      0.940      -0.339       0.314\n",
      "Profession_Manager               0.3233      0.262      1.235      0.217      -0.191       0.837\n",
      "Profession_Teacher              -0.0466      0.301     -0.155      0.877      -0.637       0.544\n",
      "Profession_Waiting staff        -0.0671      0.164     -0.410      0.682      -0.388       0.254\n",
      "Profession_driver                0.0427      0.195      0.220      0.826      -0.339       0.425\n",
      "Demographics_Urban              -0.0370      0.129     -0.288      0.773      -0.289       0.215\n",
      "Platform_Instagram              -0.1446      0.163     -0.887      0.376      -0.465       0.175\n",
      "Platform_TikTok                 -0.0266      0.161     -0.166      0.868      -0.342       0.288\n",
      "Platform_YouTube                -0.2414      0.164     -1.469      0.142      -0.564       0.081\n",
      "Video Category_Comedy           -0.1095      0.357     -0.306      0.759      -0.811       0.592\n",
      "Video Category_Entertainment     0.3473      0.264      1.313      0.189      -0.172       0.866\n",
      "Video Category_Gaming            0.2407      0.256      0.940      0.347      -0.262       0.743\n",
      "Video Category_Jokes/Memes       0.0452      0.239      0.189      0.850      -0.424       0.514\n",
      "Video Category_Life Hacks        0.1934      0.244      0.794      0.427      -0.285       0.671\n",
      "Video Category_Pranks           -0.0908      0.261     -0.348      0.728      -0.603       0.421\n",
      "Video Category_Trends            0.4647      0.266      1.748      0.081      -0.057       0.986\n",
      "Video Category_Vlogs             0.3690      0.260      1.422      0.155      -0.140       0.878\n",
      "Watch Reason_Entertainment       0.0526      0.152      0.347      0.728      -0.245       0.350\n",
      "Watch Reason_Habit               0.1785      0.144      1.243      0.214      -0.103       0.460\n",
      "Watch Reason_Procrastination     0.1595      0.193      0.825      0.410      -0.220       0.539\n",
      "DeviceType_Tablet                0.2560      0.124      2.064      0.039       0.013       0.499\n",
      "OS_MacOS                        -0.1451      0.182     -0.796      0.426      -0.503       0.212\n",
      "OS_Windows                       0.0654      0.179      0.366      0.714      -0.285       0.416\n",
      "OS_iOS                           0.0032      0.136      0.024      0.981      -0.263       0.270\n",
      "CurrentActivity_At school       -0.1564      0.141     -1.110      0.267      -0.433       0.120\n",
      "CurrentActivity_At work          0.1020      0.148      0.690      0.490      -0.188       0.392\n",
      "CurrentActivity_Commuting       -0.2510      0.191     -1.313      0.190      -0.626       0.124\n",
      "ConnectionType_Wi-Fi            -0.1883      0.120     -1.566      0.118      -0.424       0.048\n",
      "==============================================================================\n",
      "Omnibus:                       11.907   Durbin-Watson:                   1.590\n",
      "Prob(Omnibus):                  0.003   Jarque-Bera (JB):               11.999\n",
      "Skew:                          -0.251   Prob(JB):                      0.00248\n",
      "Kurtosis:                       2.810   Cond. No.                     7.31e+04\n",
      "==============================================================================\n",
      "\n",
      "Notes:\n",
      "[1] Standard Errors assume that the covariance matrix of the errors is correctly specified.\n",
      "[2] The condition number is large, 7.31e+04. This might indicate that there are\n",
      "strong multicollinearity or other numerical problems.\n"
     ]
    }
   ],
   "source": [
    "#Refit OLS Model again\n",
    "X = df.drop(\"Addiction Level\", axis=1)\n",
    "y = df[\"Addiction Level\"]\n",
    "\n",
    "data_model = pd.concat([X, y], axis=1).dropna()\n",
    "X_model = data_model.drop(\"Addiction Level\", axis=1)\n",
    "y_model = data_model[\"Addiction Level\"]\n",
    "\n",
    "X_model = sm.add_constant(X_model)\n",
    "\n",
    "model_reduced = sm.OLS(y_model, X_model).fit()\n",
    "\n",
    "print(model_reduced.summary())"
   ]
  },
  {
   "cell_type": "code",
   "execution_count": 44,
   "id": "47b1576a",
   "metadata": {},
   "outputs": [
    {
     "name": "stdout",
     "output_type": "stream",
     "text": [
      "Features with VIF > 5:\n",
      "Empty DataFrame\n",
      "Columns: [feature, VIF]\n",
      "Index: []\n"
     ]
    }
   ],
   "source": [
    "#Address Multicollinearity again\n",
    "vif_data = pd.DataFrame({\n",
    "    \"feature\": X.columns,\n",
    "    \"VIF\": [variance_inflation_factor(X.values, i) for i in range(X.shape[1])]\n",
    "})\n",
    "\n",
    "high_vif = vif_data[vif_data[\"VIF\"] > 5]\n",
    "print(\"Features with VIF > 5:\")\n",
    "print(high_vif)\n",
    "\n",
    "to_drop = high_vif.loc[high_vif[\"feature\"] != \"const\", \"feature\"].tolist()\n",
    "df.drop(columns=to_drop, inplace=True)"
   ]
  },
  {
   "cell_type": "code",
   "execution_count": 45,
   "id": "36aeb5b2",
   "metadata": {},
   "outputs": [
    {
     "data": {
      "image/png": "[encoded data removed]",
      "text/plain": [
       "<Figure size 600x400 with 1 Axes>"
      ]
     },
     "metadata": {},
     "output_type": "display_data"
    }
   ],
   "source": [
    "#Check for other violated Linear Regression assumptions\n",
    "fitted = model_reduced.fittedvalues\n",
    "resid  = model_reduced.resid\n",
    "\n",
    "plt.figure(figsize=(6,4))\n",
    "plt.scatter(fitted, resid, alpha=0.5)\n",
    "plt.axhline(0, color='black', linewidth=1)\n",
    "plt.xlabel(\"Fitted values\")\n",
    "plt.ylabel(\"Residuals\")\n",
    "plt.title(\"Residual vs. Fitted for Reduced Model\")\n",
    "plt.show()"
   ]
  },
  {
   "cell_type": "code",
   "execution_count": 46,
   "id": "d5e87b3f",
   "metadata": {},
   "outputs": [
    {
     "name": "stdout",
     "output_type": "stream",
     "text": [
      "                            OLS Regression Results                            \n",
      "==============================================================================\n",
      "Dep. Variable:        Addiction Level   R-squared:                       0.297\n",
      "Model:                            OLS   Adj. R-squared:                  0.296\n",
      "Method:                 Least Squares   F-statistic:                     210.8\n",
      "Date:                Fri, 25 Apr 2025   Prob (F-statistic):           4.47e-77\n",
      "Time:                        16:35:52   Log-Likelihood:                -1964.1\n",
      "No. Observations:                1000   AIC:                             3934.\n",
      "Df Residuals:                     997   BIC:                             3949.\n",
      "Df Model:                           2                                         \n",
      "Covariance Type:            nonrobust                                         \n",
      "======================================================================================\n",
      "                         coef    std err          t      P>|t|      [0.025      0.975]\n",
      "--------------------------------------------------------------------------------------\n",
      "const                  0.9875      0.159      6.199      0.000       0.675       1.300\n",
      "Number of Sessions    -0.0228      0.010     -2.238      0.025      -0.043      -0.003\n",
      "Frequency              1.1472      0.056     20.305      0.000       1.036       1.258\n",
      "==============================================================================\n",
      "Omnibus:                       11.488   Durbin-Watson:                   1.599\n",
      "Prob(Omnibus):                  0.003   Jarque-Bera (JB):               11.765\n",
      "Skew:                          -0.259   Prob(JB):                      0.00279\n",
      "Kurtosis:                       2.885   Cond. No.                         34.7\n",
      "==============================================================================\n",
      "\n",
      "Notes:\n",
      "[1] Standard Errors assume that the covariance matrix of the errors is correctly specified.\n"
     ]
    }
   ],
   "source": [
    "#Feature Selection using Backward Elimination\n",
    "X = df.drop(\"Addiction Level\", axis=1)\n",
    "y = df[\"Addiction Level\"]\n",
    "data = pd.concat([X, y], axis=1).dropna()\n",
    "X = data.drop(\"Addiction Level\", axis=1)\n",
    "y = data[\"Addiction Level\"]\n",
    "\n",
    "features = X.columns.tolist()\n",
    "\n",
    "while True:\n",
    "    X_model = sm.add_constant(X[features])\n",
    "    model = sm.OLS(y, X_model).fit()\n",
    "\n",
    "    pvals = model.pvalues.drop(\"const\")\n",
    "\n",
    "    max_p = pvals.max()\n",
    "    if max_p > 0.05:\n",
    "        worst_feature = pvals.idxmax()\n",
    "        features.remove(worst_feature)\n",
    "    else:\n",
    "        break\n",
    "\n",
    "X_final = sm.add_constant(X[features])\n",
    "final_model = sm.OLS(y, X_final).fit()\n",
    "print(final_model.summary())\n"
   ]
  },
  {
   "cell_type": "code",
   "execution_count": 49,
   "id": "0536ca1d",
   "metadata": {},
   "outputs": [
    {
     "data": {
      "image/png": "[encoded data removed]",
      "text/plain": [
       "<Figure size 600x400 with 1 Axes>"
      ]
     },
     "metadata": {},
     "output_type": "display_data"
    }
   ],
   "source": [
    "#Final Model Residual Plot\n",
    "fitted = final_model.fittedvalues\n",
    "resid  = final_model.resid\n",
    "\n",
    "plt.figure(figsize=(6,4))\n",
    "plt.scatter(fitted, resid, alpha=0.5)\n",
    "plt.axhline(0, color='black', linewidth=1)\n",
    "plt.xlabel(\"Fitted values\")\n",
    "plt.ylabel(\"Residuals\")\n",
    "plt.title(\"Residual Plot for Addiction Level\")\n",
    "plt.show()"
   ]
  },
  {
   "cell_type": "code",
   "execution_count": null,
   "id": "97698a6e",
   "metadata": {},
   "outputs": [],
   "source": []
  }
 ],
 "metadata": {
  "kernelspec": {
   "display_name": "base",
   "language": "python",
   "name": "python3"
  },
  "language_info": {
   "codemirror_mode": {
    "name": "ipython",
    "version": 3
   },
   "file_extension": ".py",
   "mimetype": "text/x-python",
   "name": "python",
   "nbconvert_exporter": "python",
   "pygments_lexer": "ipython3",
   "version": "3.12.4"
  }
 },
 "nbformat": 4,
 "nbformat_minor": 5
}
